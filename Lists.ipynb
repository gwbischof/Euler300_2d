{
 "cells": [
  {
   "cell_type": "code",
   "execution_count": 75,
   "metadata": {},
   "outputs": [],
   "source": [
    "L1 = [[[{(0,0)},(1,0)]],[[{(0,0),(1,0)},(0,0),(1,0)]]]\n",
    "\n",
    "def NextTuple(path, num): return [(path[-1][0]+1, path[-1][1]), (path[-1][0], path[-1][1]+1), (path[-1][0]-1, path[-1][1]), (path[-1][0], path[-1][1]-1)][num]\n",
    "    \n",
    "def GetPaths(L, N): \n",
    "    while len(L) <= N: L.append([L[-1][j]+[NextTuple(L[-1][j], i)] for j in range(len(L[-1])) for i in range(4) if NextTuple(L[-1][j], i) not in L[-1][j][0]])"
   ]
  },
  {
   "cell_type": "code",
   "execution_count": 76,
   "metadata": {},
   "outputs": [
    {
     "data": {
      "text/plain": [
       "[[{(0, 0), (1, 0)}, (0, 0), (1, 0), (2, 0), (3, 0)],\n",
       " [{(0, 0), (1, 0)}, (0, 0), (1, 0), (2, 0), (2, 1)],\n",
       " [{(0, 0), (1, 0)}, (0, 0), (1, 0), (2, 0), (2, -1)],\n",
       " [{(0, 0), (1, 0)}, (0, 0), (1, 0), (1, 1), (2, 1)],\n",
       " [{(0, 0), (1, 0)}, (0, 0), (1, 0), (1, 1), (1, 2)],\n",
       " [{(0, 0), (1, 0)}, (0, 0), (1, 0), (1, 1), (0, 1)],\n",
       " [{(0, 0), (1, 0)}, (0, 0), (1, 0), (1, -1), (2, -1)],\n",
       " [{(0, 0), (1, 0)}, (0, 0), (1, 0), (1, -1), (0, -1)],\n",
       " [{(0, 0), (1, 0)}, (0, 0), (1, 0), (1, -1), (1, -2)]]"
      ]
     },
     "execution_count": 76,
     "metadata": {},
     "output_type": "execute_result"
    }
   ],
   "source": [
    "GetPaths(L1,4)\n",
    "L1[0]\n",
    "L1[1]\n",
    "L1[2]\n",
    "L1[3]"
   ]
  },
  {
   "cell_type": "code",
   "execution_count": null,
   "metadata": {},
   "outputs": [],
   "source": []
  }
 ],
 "metadata": {
  "kernelspec": {
   "display_name": "Python 3",
   "language": "python",
   "name": "python3"
  },
  "language_info": {
   "codemirror_mode": {
    "name": "ipython",
    "version": 3
   },
   "file_extension": ".py",
   "mimetype": "text/x-python",
   "name": "python",
   "nbconvert_exporter": "python",
   "pygments_lexer": "ipython3",
   "version": "3.6.5"
  }
 },
 "nbformat": 4,
 "nbformat_minor": 2
}
