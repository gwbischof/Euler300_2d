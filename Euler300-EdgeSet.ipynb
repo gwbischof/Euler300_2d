{
 "cells": [
  {
   "cell_type": "code",
   "execution_count": 432,
   "metadata": {
    "collapsed": true
   },
   "outputs": [],
   "source": [
    "# Starting paths for dynamically getting all paths.\n",
    "# We can fix the first two vertex of the path, because if we picked a different \n",
    "# position for the second vertex it would have rotational symmetry to the path starting with (0,0),(1,0).\n",
    "# This will reduce the number of paths to check.\n",
    "L1 = [[[{(0,0)},set(),(0,0)]],[[{(0,0),(1,0)},set(),(0,0),(1,0)]]]\n",
    "E1 = [set(frozenset()),set(frozenset())]\n",
    "\n",
    "# Returns one of the four possible coordinates for the next vertex on the path, num selects between them.\n",
    "def NextTuple(path, num): \n",
    "    return [(path[-1][0]+1, path[-1][1]), (path[-1][0], path[-1][1]+1), (path[-1][0]-1, path[-1][1]), (path[-1][0], path[-1][1]-1)][num]\n",
    "\n",
    "def NewEdges(path,E):\n",
    "    edges = set()\n",
    "    newEdgeSet = set()\n",
    "    if (path[-1][0]+1, path[-1][1]) in path[0] and (path[-1][0]+1, path[-1][1]) != path[-2]: \n",
    "        edges.add((path.index((path[-1][0]+1, path[-1][1]))-1, len(path)-2)) \n",
    "    if (path[-1][0], path[-1][1]+1) in path[0] and (path[-1][0], path[-1][1]+1) != path[-2]: \n",
    "        edges.add((path.index((path[-1][0], path[-1][1]+1))-1, len(path)-2)) \n",
    "    if (path[-1][0]-1, path[-1][1]) in path[0] and (path[-1][0]-1, path[-1][1]) != path[-2]: \n",
    "        edges.add((path.index((path[-1][0]-1, path[-1][1]))-1, len(path)-2)) \n",
    "    if (path[-1][0], path[-1][1]-1) in path[0] and (path[-1][0], path[-1][1]-1) != path[-2]: \n",
    "        edges.add((path.index((path[-1][0], path[-1][1]-1))-1, len(path)-2)) \n",
    "    newEdgeSet = path[1] | edges\n",
    "    #if frozenset(newEdgeSet) not in E[len(path)-3]: \n",
    "    #add = True\n",
    "    #for edgeset in E[len(path)-3]:\n",
    "    #    if frozenset(newEdgeSet) < edgeset: add = False\n",
    "    #if add: E[len(path)-3].add(frozenset(newEdgeSet))\n",
    "    \n",
    "    E[len(path)-3].add(frozenset(newEdgeSet))\n",
    "    #if newEdgeSet != set():\n",
    "        #newEdgeSet = set('@') # @ symbol is indicating that it is a duplicate \n",
    "    #    newEdgeSet = set()\n",
    "    return [path[0] | {path[-1]}] + [newEdgeSet] + path[2:]\n",
    "\n",
    "def TotalNumContacts(path, protein):\n",
    "    contacts = sum([int(protein[i-1]) * int(protein[i]) for i in range(1, len(protein))])\n",
    "    contacts += sum([int(protein[edge[0]-1]) * int(protein[edge[1]-1]) for edge in path[1]])\n",
    "    #print(protein, contacts)\n",
    "    return contacts\n",
    "\n",
    "def TotalNumContacts_Edge(edgeset, protein):\n",
    "    contacts = sum([int(protein[i-1]) * int(protein[i]) for i in range(1, len(protein))])\n",
    "    contacts += sum([int(protein[edge[0]-1]) * int(protein[edge[1]-1]) for edge in edgeset])\n",
    "    #print(protein, contacts)\n",
    "    return contacts\n",
    "\n",
    "# Dynamically generates a list of all possible paths.\n",
    "# Currently the filter is filtering out too many paths.\n",
    "# If the filter is commented out it will work correctly.\n",
    "# I am working on figuring out a better filter.\n",
    "def GetPaths(L, E, N): \n",
    "    while len(L) <= N: \n",
    "        L.append([L[-1][j]+[NextTuple(L[-1][j], i)] for j in range(len(L[-1])) for i in range(4) if NextTuple(L[-1][j], i) not in L[-1][j][0]])\n",
    "        E.append(set(frozenset()))\n",
    "        L[-1] = [NewEdges(path,E) for path in L[-1]]\n",
    "        L[-1] = list(filter(lambda x: \"@\" not in x[1], L[-1]))\n",
    "\n",
    "# Simple way to display a path.        \n",
    "def DisplayPath(path):  \n",
    "    MaxX = max(path[0], key = lambda x: x[0])[0]\n",
    "    MaxY = max(path[0], key = lambda x: x[1])[1]\n",
    "    MinX = min(path[0], key = lambda x: x[0])[0]\n",
    "    MinY = min(path[0], key = lambda x: x[1])[1]\n",
    "    \n",
    "    display = [ \" \".join([str(path.index((X,Y))) if (X,Y) in path[0] else \"-\" for X in range(MinX, MaxX+1)]) for Y in range(MinY, MaxY+1)]\n",
    "    \n",
    "    for item in display: print(item)"
   ]
  },
  {
   "cell_type": "code",
   "execution_count": 433,
   "metadata": {
    "scrolled": true
   },
   "outputs": [
    {
     "name": "stdout",
     "output_type": "stream",
     "text": [
      "593611\n",
      "Answer for N = 15 is 10748 0.3280029296875\n",
      "Wall time: 16.1 s\n"
     ]
    }
   ],
   "source": [
    "%%time\n",
    "\n",
    "N = 15\n",
    "\n",
    "GetPaths(L1,E1,N-1)\n",
    "print(len(L1[N-1]))\n",
    "\n",
    "#for edgeset in E1: print(edgeset)\n",
    "# All leading and trailing 0's can be removed from the protein,\n",
    "# and then you can think of it as a protein of a shorter length. Reducing the amount of computation.\n",
    "#for N in range(5,14):\n",
    "proteins = [bin(i)[2:].zfill(N) for i in range(2**N)]\n",
    "\n",
    "#average = sum([max([TotalNumContacts(path,protein) for path in L1[len(protein)-1] if path[1] != set()] + [0]) for protein in proteins])\n",
    "#average = sum([max([TotalNumContacts_Edge(edgeset,protein) for edgeset in E1[len(protein)-1]]) for protein in proteins])\n",
    "\n",
    "#maxcontactlist =[max([TotalNumContacts(path,protein) for path in L1[len(protein)-1]]) for protein in proteins]\n",
    "print(\"Answer for N =\",N, \"is\", average, average/(2**N))\n",
    "#print(maxcontactlist)\n",
    "#for i in range(2**N):\n",
    "#    print(proteins[i],maxcontactlist[i])\n",
    "#for path in L1[N-1]:\n",
    "#    print()\n",
    "#    DisplayPath(path)"
   ]
  },
  {
   "cell_type": "code",
   "execution_count": 403,
   "metadata": {},
   "outputs": [
    {
     "name": "stdout",
     "output_type": "stream",
     "text": [
      "[{(3, 0), (2, 0), (1, 0), (0, 0)}, set(), (0, 0), (1, 0), (2, 0), (3, 0)]\n",
      "[{(2, 0), (1, 0), (0, 0), (2, 1)}, set(), (0, 0), (1, 0), (2, 0), (2, 1)]\n",
      "[{(2, 0), (1, 0), (0, 0), (2, -1)}, set(), (0, 0), (1, 0), (2, 0), (2, -1)]\n",
      "[{(1, 0), (0, 0), (1, 1), (2, 1)}, set(), (0, 0), (1, 0), (1, 1), (2, 1)]\n",
      "[{(1, 2), (1, 0), (0, 0), (1, 1)}, set(), (0, 0), (1, 0), (1, 1), (1, 2)]\n",
      "[{(0, 1), (1, 0), (0, 0), (1, 1)}, {(1, 4)}, (0, 0), (1, 0), (1, 1), (0, 1)]\n",
      "[{(1, 0), (0, 0), (1, -1), (2, -1)}, set(), (0, 0), (1, 0), (1, -1), (2, -1)]\n",
      "[{(0, -1), (1, 0), (0, 0), (1, -1)}, {(1, 4)}, (0, 0), (1, 0), (1, -1), (0, -1)]\n",
      "[{(1, 0), (0, 0), (1, -1), (1, -2)}, set(), (0, 0), (1, 0), (1, -1), (1, -2)]\n",
      "frozenset({(1, 4)})\n",
      "frozenset()\n"
     ]
    }
   ],
   "source": [
    "N = 4\n",
    "for path in L1[N-1]:\n",
    "    print(path)\n",
    "\n",
    "for edgeset in E1[N-1]:\n",
    "    print(edgeset)"
   ]
  },
  {
   "cell_type": "code",
   "execution_count": 435,
   "metadata": {
    "scrolled": true
   },
   "outputs": [
    {
     "name": "stdout",
     "output_type": "stream",
     "text": [
      "12495\n",
      "0\n",
      "0\n",
      "1\n",
      "2\n",
      "3\n",
      "8\n",
      "14\n",
      "41\n",
      "78\n",
      "212\n",
      "424\n",
      "1113\n",
      "2309\n",
      "5953\n",
      "12495\n"
     ]
    }
   ],
   "source": [
    "print(len(E1[14]))\n",
    "for s in E1: print(len(s))"
   ]
  },
  {
   "cell_type": "code",
   "execution_count": 469,
   "metadata": {
    "scrolled": true
   },
   "outputs": [
    {
     "name": "stdout",
     "output_type": "stream",
     "text": [
      "\n",
      "2 1\n",
      "set()\n",
      "\n",
      "3 1\n",
      "set()\n",
      "\n",
      "4 1\n",
      "{(1, 4)}\n",
      "\n",
      "5 2\n",
      "{(2, 5), (1, 4)}\n",
      "\n",
      "6 3\n",
      "{(1, 4), (2, 5), (1, 6), (3, 6)}\n",
      "\n",
      "7 7\n",
      "{(2, 7), (4, 7), (1, 6), (3, 6), (2, 5), (1, 4)}\n",
      "\n",
      "8 14\n",
      "{(2, 7), (4, 7), (1, 4), (3, 8), (1, 8), (1, 6), (3, 6), (2, 5), (5, 8)}\n",
      "\n",
      "9 28\n",
      "{(2, 7), (6, 9), (4, 7), (4, 9), (2, 9), (1, 4), (3, 8), (1, 8), (1, 6), (3, 6), (2, 5), (5, 8)}\n",
      "\n",
      "10 53\n",
      "{(2, 7), (6, 9), (4, 7), (4, 9), (5, 10), (2, 9), (3, 10), (1, 4), (3, 8), (1, 8), (1, 6), (3, 6), (7, 10), (1, 10), (2, 5), (5, 8)}\n",
      "\n",
      "11 99\n",
      "{(6, 9), (4, 7), (6, 11), (8, 11), (1, 4), (1, 6), (2, 5), (5, 8), (4, 11), (2, 7), (5, 10), (4, 9), (2, 9), (3, 10), (2, 11), (3, 8), (1, 8), (3, 6), (7, 10), (1, 10)}\n"
     ]
    },
    {
     "ename": "IndexError",
     "evalue": "string index out of range",
     "output_type": "error",
     "traceback": [
      "\u001b[1;31m---------------------------------------------------------------------------\u001b[0m",
      "\u001b[1;31mIndexError\u001b[0m                                Traceback (most recent call last)",
      "\u001b[1;32m<ipython-input-469-8c0f81b56f07>\u001b[0m in \u001b[0;36m<module>\u001b[1;34m()\u001b[0m\n\u001b[0;32m      6\u001b[0m         \u001b[0mbestpath\u001b[0m \u001b[1;33m=\u001b[0m \u001b[0mL1\u001b[0m\u001b[1;33m[\u001b[0m\u001b[0mN\u001b[0m\u001b[1;33m-\u001b[0m\u001b[1;36m1\u001b[0m\u001b[1;33m]\u001b[0m\u001b[1;33m[\u001b[0m\u001b[1;36m0\u001b[0m\u001b[1;33m]\u001b[0m\u001b[1;33m\u001b[0m\u001b[0m\n\u001b[0;32m      7\u001b[0m         \u001b[1;32mfor\u001b[0m \u001b[0mpath\u001b[0m \u001b[1;32min\u001b[0m \u001b[0msorted\u001b[0m\u001b[1;33m(\u001b[0m\u001b[0mL1\u001b[0m\u001b[1;33m[\u001b[0m\u001b[0mN\u001b[0m\u001b[1;33m-\u001b[0m\u001b[1;36m1\u001b[0m\u001b[1;33m]\u001b[0m\u001b[1;33m)\u001b[0m\u001b[1;33m:\u001b[0m\u001b[1;33m\u001b[0m\u001b[0m\n\u001b[1;32m----> 8\u001b[1;33m             \u001b[1;32mif\u001b[0m \u001b[0mTotalNumContacts\u001b[0m\u001b[1;33m(\u001b[0m\u001b[0mpath\u001b[0m\u001b[1;33m,\u001b[0m\u001b[0mprotein\u001b[0m\u001b[1;33m)\u001b[0m \u001b[1;33m>=\u001b[0m \u001b[0mbest\u001b[0m\u001b[1;33m:\u001b[0m\u001b[1;33m\u001b[0m\u001b[0m\n\u001b[0m\u001b[0;32m      9\u001b[0m                 \u001b[0mbest\u001b[0m \u001b[1;33m=\u001b[0m \u001b[0mTotalNumContacts\u001b[0m\u001b[1;33m(\u001b[0m\u001b[0mpath\u001b[0m\u001b[1;33m,\u001b[0m\u001b[0mprotein\u001b[0m\u001b[1;33m)\u001b[0m\u001b[1;33m\u001b[0m\u001b[0m\n\u001b[0;32m     10\u001b[0m                 \u001b[0mbestpath\u001b[0m \u001b[1;33m=\u001b[0m \u001b[0mpath\u001b[0m\u001b[1;33m\u001b[0m\u001b[0m\n",
      "\u001b[1;32m<ipython-input-432-4c9fe54f7326>\u001b[0m in \u001b[0;36mTotalNumContacts\u001b[1;34m(path, protein)\u001b[0m\n\u001b[0;32m     36\u001b[0m \u001b[1;32mdef\u001b[0m \u001b[0mTotalNumContacts\u001b[0m\u001b[1;33m(\u001b[0m\u001b[0mpath\u001b[0m\u001b[1;33m,\u001b[0m \u001b[0mprotein\u001b[0m\u001b[1;33m)\u001b[0m\u001b[1;33m:\u001b[0m\u001b[1;33m\u001b[0m\u001b[0m\n\u001b[0;32m     37\u001b[0m     \u001b[0mcontacts\u001b[0m \u001b[1;33m=\u001b[0m \u001b[0msum\u001b[0m\u001b[1;33m(\u001b[0m\u001b[1;33m[\u001b[0m\u001b[0mint\u001b[0m\u001b[1;33m(\u001b[0m\u001b[0mprotein\u001b[0m\u001b[1;33m[\u001b[0m\u001b[0mi\u001b[0m\u001b[1;33m-\u001b[0m\u001b[1;36m1\u001b[0m\u001b[1;33m]\u001b[0m\u001b[1;33m)\u001b[0m \u001b[1;33m*\u001b[0m \u001b[0mint\u001b[0m\u001b[1;33m(\u001b[0m\u001b[0mprotein\u001b[0m\u001b[1;33m[\u001b[0m\u001b[0mi\u001b[0m\u001b[1;33m]\u001b[0m\u001b[1;33m)\u001b[0m \u001b[1;32mfor\u001b[0m \u001b[0mi\u001b[0m \u001b[1;32min\u001b[0m \u001b[0mrange\u001b[0m\u001b[1;33m(\u001b[0m\u001b[1;36m1\u001b[0m\u001b[1;33m,\u001b[0m \u001b[0mlen\u001b[0m\u001b[1;33m(\u001b[0m\u001b[0mprotein\u001b[0m\u001b[1;33m)\u001b[0m\u001b[1;33m)\u001b[0m\u001b[1;33m]\u001b[0m\u001b[1;33m)\u001b[0m\u001b[1;33m\u001b[0m\u001b[0m\n\u001b[1;32m---> 38\u001b[1;33m     \u001b[0mcontacts\u001b[0m \u001b[1;33m+=\u001b[0m \u001b[0msum\u001b[0m\u001b[1;33m(\u001b[0m\u001b[1;33m[\u001b[0m\u001b[0mint\u001b[0m\u001b[1;33m(\u001b[0m\u001b[0mprotein\u001b[0m\u001b[1;33m[\u001b[0m\u001b[0medge\u001b[0m\u001b[1;33m[\u001b[0m\u001b[1;36m0\u001b[0m\u001b[1;33m]\u001b[0m\u001b[1;33m-\u001b[0m\u001b[1;36m1\u001b[0m\u001b[1;33m]\u001b[0m\u001b[1;33m)\u001b[0m \u001b[1;33m*\u001b[0m \u001b[0mint\u001b[0m\u001b[1;33m(\u001b[0m\u001b[0mprotein\u001b[0m\u001b[1;33m[\u001b[0m\u001b[0medge\u001b[0m\u001b[1;33m[\u001b[0m\u001b[1;36m1\u001b[0m\u001b[1;33m]\u001b[0m\u001b[1;33m-\u001b[0m\u001b[1;36m1\u001b[0m\u001b[1;33m]\u001b[0m\u001b[1;33m)\u001b[0m \u001b[1;32mfor\u001b[0m \u001b[0medge\u001b[0m \u001b[1;32min\u001b[0m \u001b[0mpath\u001b[0m\u001b[1;33m[\u001b[0m\u001b[1;36m1\u001b[0m\u001b[1;33m]\u001b[0m\u001b[1;33m]\u001b[0m\u001b[1;33m)\u001b[0m\u001b[1;33m\u001b[0m\u001b[0m\n\u001b[0m\u001b[0;32m     39\u001b[0m     \u001b[1;31m#print(protein, contacts)\u001b[0m\u001b[1;33m\u001b[0m\u001b[1;33m\u001b[0m\u001b[0m\n\u001b[0;32m     40\u001b[0m     \u001b[1;32mreturn\u001b[0m \u001b[0mcontacts\u001b[0m\u001b[1;33m\u001b[0m\u001b[0m\n",
      "\u001b[1;32m<ipython-input-432-4c9fe54f7326>\u001b[0m in \u001b[0;36m<listcomp>\u001b[1;34m(.0)\u001b[0m\n\u001b[0;32m     36\u001b[0m \u001b[1;32mdef\u001b[0m \u001b[0mTotalNumContacts\u001b[0m\u001b[1;33m(\u001b[0m\u001b[0mpath\u001b[0m\u001b[1;33m,\u001b[0m \u001b[0mprotein\u001b[0m\u001b[1;33m)\u001b[0m\u001b[1;33m:\u001b[0m\u001b[1;33m\u001b[0m\u001b[0m\n\u001b[0;32m     37\u001b[0m     \u001b[0mcontacts\u001b[0m \u001b[1;33m=\u001b[0m \u001b[0msum\u001b[0m\u001b[1;33m(\u001b[0m\u001b[1;33m[\u001b[0m\u001b[0mint\u001b[0m\u001b[1;33m(\u001b[0m\u001b[0mprotein\u001b[0m\u001b[1;33m[\u001b[0m\u001b[0mi\u001b[0m\u001b[1;33m-\u001b[0m\u001b[1;36m1\u001b[0m\u001b[1;33m]\u001b[0m\u001b[1;33m)\u001b[0m \u001b[1;33m*\u001b[0m \u001b[0mint\u001b[0m\u001b[1;33m(\u001b[0m\u001b[0mprotein\u001b[0m\u001b[1;33m[\u001b[0m\u001b[0mi\u001b[0m\u001b[1;33m]\u001b[0m\u001b[1;33m)\u001b[0m \u001b[1;32mfor\u001b[0m \u001b[0mi\u001b[0m \u001b[1;32min\u001b[0m \u001b[0mrange\u001b[0m\u001b[1;33m(\u001b[0m\u001b[1;36m1\u001b[0m\u001b[1;33m,\u001b[0m \u001b[0mlen\u001b[0m\u001b[1;33m(\u001b[0m\u001b[0mprotein\u001b[0m\u001b[1;33m)\u001b[0m\u001b[1;33m)\u001b[0m\u001b[1;33m]\u001b[0m\u001b[1;33m)\u001b[0m\u001b[1;33m\u001b[0m\u001b[0m\n\u001b[1;32m---> 38\u001b[1;33m     \u001b[0mcontacts\u001b[0m \u001b[1;33m+=\u001b[0m \u001b[0msum\u001b[0m\u001b[1;33m(\u001b[0m\u001b[1;33m[\u001b[0m\u001b[0mint\u001b[0m\u001b[1;33m(\u001b[0m\u001b[0mprotein\u001b[0m\u001b[1;33m[\u001b[0m\u001b[0medge\u001b[0m\u001b[1;33m[\u001b[0m\u001b[1;36m0\u001b[0m\u001b[1;33m]\u001b[0m\u001b[1;33m-\u001b[0m\u001b[1;36m1\u001b[0m\u001b[1;33m]\u001b[0m\u001b[1;33m)\u001b[0m \u001b[1;33m*\u001b[0m \u001b[0mint\u001b[0m\u001b[1;33m(\u001b[0m\u001b[0mprotein\u001b[0m\u001b[1;33m[\u001b[0m\u001b[0medge\u001b[0m\u001b[1;33m[\u001b[0m\u001b[1;36m1\u001b[0m\u001b[1;33m]\u001b[0m\u001b[1;33m-\u001b[0m\u001b[1;36m1\u001b[0m\u001b[1;33m]\u001b[0m\u001b[1;33m)\u001b[0m \u001b[1;32mfor\u001b[0m \u001b[0medge\u001b[0m \u001b[1;32min\u001b[0m \u001b[0mpath\u001b[0m\u001b[1;33m[\u001b[0m\u001b[1;36m1\u001b[0m\u001b[1;33m]\u001b[0m\u001b[1;33m]\u001b[0m\u001b[1;33m)\u001b[0m\u001b[1;33m\u001b[0m\u001b[0m\n\u001b[0m\u001b[0;32m     39\u001b[0m     \u001b[1;31m#print(protein, contacts)\u001b[0m\u001b[1;33m\u001b[0m\u001b[1;33m\u001b[0m\u001b[0m\n\u001b[0;32m     40\u001b[0m     \u001b[1;32mreturn\u001b[0m \u001b[0mcontacts\u001b[0m\u001b[1;33m\u001b[0m\u001b[0m\n",
      "\u001b[1;31mIndexError\u001b[0m: string index out of range"
     ]
    }
   ],
   "source": [
    "#N = 5\n",
    "for N in range(2,13):\n",
    "    bestpathset = set()\n",
    "    for protein in proteins:\n",
    "        best = 0\n",
    "        bestpath = L1[N-1][0]\n",
    "        for path in sorted(L1[N-1]):\n",
    "            if TotalNumContacts(path,protein) >= best: \n",
    "                best = TotalNumContacts(path,protein)\n",
    "                bestpath = path\n",
    "        bestpathset.add(frozenset(bestpath[1]))\n",
    "\n",
    "    removeset = set()\n",
    "    for path1 in bestpathset:\n",
    "        for path2 in bestpathset:\n",
    "            if path2 < path1: removeset.add(path2)\n",
    "    for path in removeset:\n",
    "        bestpathset.remove(path)\n",
    "        \n",
    "    print()\n",
    "    print(N, len(bestpathset))\n",
    "    \n",
    "    possible = set()\n",
    "    for path in bestpathset:\n",
    "        possible |= set(list(path))\n",
    "    print(possible)\n",
    "    \n",
    "    #for path in sorted(list(bestpathset)): print(set(list(path)))\n",
    "        "
   ]
  },
  {
   "cell_type": "code",
   "execution_count": 468,
   "metadata": {},
   "outputs": [
    {
     "name": "stdout",
     "output_type": "stream",
     "text": [
      "{(3, 8), (4, 7), (5, 8), (1, 8)}\n"
     ]
    }
   ],
   "source": [
    "possible = set()\n",
    "for path in bestpathset:\n",
    "    possible |= set(list(path))\n",
    "print(possible)"
   ]
  },
  {
   "cell_type": "code",
   "execution_count": 475,
   "metadata": {},
   "outputs": [
    {
     "data": {
      "text/plain": [
       "70.0"
      ]
     },
     "execution_count": 475,
     "metadata": {},
     "output_type": "execute_result"
    }
   ],
   "source": [
    "import math\n",
    "N = 8\n",
    "math.factorial(N) / (math.factorial(N-(N//2)) * math.factorial(N//2))"
   ]
  },
  {
   "cell_type": "code",
   "execution_count": 482,
   "metadata": {},
   "outputs": [
    {
     "ename": "SyntaxError",
     "evalue": "invalid syntax (<ipython-input-482-9555df29d649>, line 3)",
     "output_type": "error",
     "traceback": [
      "\u001b[1;36m  File \u001b[1;32m\"<ipython-input-482-9555df29d649>\"\u001b[1;36m, line \u001b[1;32m3\u001b[0m\n\u001b[1;33m    j = join.([arri for arri in arr])\u001b[0m\n\u001b[1;37m             ^\u001b[0m\n\u001b[1;31mSyntaxError\u001b[0m\u001b[1;31m:\u001b[0m invalid syntax\n"
     ]
    }
   ],
   "source": [
    "arr = [list(range(9))]*8\n",
    "print(arr)\n",
    "j = join.([arri for arri in arr])\n",
    "print()\n",
    "print(j)"
   ]
  },
  {
   "cell_type": "code",
   "execution_count": null,
   "metadata": {
    "collapsed": true
   },
   "outputs": [],
   "source": []
  }
 ],
 "metadata": {
  "kernelspec": {
   "display_name": "Python 3",
   "language": "python",
   "name": "python3"
  },
  "language_info": {
   "codemirror_mode": {
    "name": "ipython",
    "version": 3
   },
   "file_extension": ".py",
   "mimetype": "text/x-python",
   "name": "python",
   "nbconvert_exporter": "python",
   "pygments_lexer": "ipython3",
   "version": "3.5.3"
  }
 },
 "nbformat": 4,
 "nbformat_minor": 2
}
