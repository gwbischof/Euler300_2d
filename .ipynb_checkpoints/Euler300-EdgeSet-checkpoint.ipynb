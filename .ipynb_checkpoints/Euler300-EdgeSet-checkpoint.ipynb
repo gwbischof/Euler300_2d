{
 "cells": [
  {
   "cell_type": "code",
   "execution_count": 315,
   "metadata": {},
   "outputs": [],
   "source": [
    "# Starting paths for dynamically getting all paths.\n",
    "# We can fix the first two vertex of the path, because if we picked a different \n",
    "# position for the second vertex it would have rotational symmetry to the path starting with (0,0),(1,0).\n",
    "# This will reduce the number of paths to check.\n",
    "L1 = [[[{(0,0)},set(),(0,0)]],[[{(0,0),(1,0)},set(),(0,0),(1,0)]]]\n",
    "E1 = [set(frozenset()),set(frozenset())]\n",
    "\n",
    "# Returns one of the four possible coordinates for the next vertex on the path, num selects between them.\n",
    "def NextTuple(path, num): \n",
    "    return [(path[-1][0]+1, path[-1][1]), (path[-1][0], path[-1][1]+1), (path[-1][0]-1, path[-1][1]), (path[-1][0], path[-1][1]-1)][num]\n",
    "\n",
    "def NewEdges(path,E):\n",
    "    edges = set()\n",
    "    newEdgeSet = set()\n",
    "    if (path[-1][0]+1, path[-1][1]) in path[0] and (path[-1][0]+1, path[-1][1]) != path[-2]: \n",
    "        edges.add((path.index((path[-1][0]+1, path[-1][1]))-1, len(path)-2)) \n",
    "    if (path[-1][0], path[-1][1]+1) in path[0] and (path[-1][0], path[-1][1]+1) != path[-2]: \n",
    "        edges.add((path.index((path[-1][0], path[-1][1]+1))-1, len(path)-2)) \n",
    "    if (path[-1][0]-1, path[-1][1]) in path[0] and (path[-1][0]-1, path[-1][1]) != path[-2]: \n",
    "        edges.add((path.index((path[-1][0]-1, path[-1][1]))-1, len(path)-2)) \n",
    "    if (path[-1][0], path[-1][1]-1) in path[0] and (path[-1][0], path[-1][1]-1) != path[-2]: \n",
    "        edges.add((path.index((path[-1][0], path[-1][1]-1))-1, len(path)-2)) \n",
    "    newEdgeSet = path[1] | edges\n",
    "    if frozenset(newEdgeSet) not in E[len(path)-3]: \n",
    "        E[len(path)-3].add(frozenset(newEdgeSet))\n",
    "    elif newEdgeSet != set():\n",
    "        newEdgeSet = set('@') # @ symbol is indicating that it is a duplicate \n",
    "    return [path[0] | {path[-1]}] + [newEdgeSet] + path[2:]\n",
    "\n",
    "def TotalNumContacts(path, protein):\n",
    "    contacts = sum([int(protein[i-1]) * int(protein[i]) for i in range(1, len(protein))])\n",
    "    contacts += sum([int(protein[edge[0]-1]) * int(protein[edge[1]-1]) for edge in path[1]])\n",
    "    #print(protein, contacts)\n",
    "    return contacts\n",
    "\n",
    "# Dynamically generates a list of all possible paths.\n",
    "# Currently the filter is filtering out too many paths.\n",
    "# If the filter is commented out it will work correctly.\n",
    "# I am working on figuring out a better filter.\n",
    "def GetPaths(L, E, N): \n",
    "    while len(L) <= N: \n",
    "        L.append([L[-1][j]+[NextTuple(L[-1][j], i)] for j in range(len(L[-1])) for i in range(4) if NextTuple(L[-1][j], i) not in L[-1][j][0]])\n",
    "        E.append(set(frozenset()))\n",
    "        L[-1] = [NewEdges(path,E) for path in L[-1]]\n",
    "        L[-1] = list(filter(lambda x: \"@\" not in x[1], L[-1]))\n",
    "\n",
    "# Simple way to display a path.        \n",
    "def DisplayPath(path):  \n",
    "    MaxX = max(path[0], key = lambda x: x[0])[0]\n",
    "    MaxY = max(path[0], key = lambda x: x[1])[1]\n",
    "    MinX = min(path[0], key = lambda x: x[0])[0]\n",
    "    MinY = min(path[0], key = lambda x: x[1])[1]\n",
    "    \n",
    "    display = [ \" \".join([str(path.index((X,Y))) if (X,Y) in path[0] else \"-\" for X in range(MinX, MaxX+1)]) for Y in range(MinY, MaxY+1)]\n",
    "    \n",
    "    for item in display: print(item)"
   ]
  },
  {
   "cell_type": "code",
   "execution_count": 316,
   "metadata": {
    "scrolled": true
   },
   "outputs": [
    {
     "name": "stdout",
     "output_type": "stream",
     "text": [
      "596\n",
      "Answer for N = 9 is 3.72265625\n",
      "Wall time: 1.95 s\n"
     ]
    }
   ],
   "source": [
    "%%time\n",
    "\n",
    "N = 9\n",
    "\n",
    "GetPaths(L1,E1,N-1)\n",
    "print(len(L1[N-1]))\n",
    "\n",
    "\n",
    "#for edgeset in E1: print(edgeset)\n",
    "# All leading and trailing 0's can be removed from the protein,\n",
    "# and then you can think of it as a protein of a shorter length. Reducing the amount of computation.\n",
    "proteins = [bin(i)[2:].zfill(N) for i in range(2**N)]\n",
    "\n",
    "average = sum([max([TotalNumContacts(path,protein) for path in L1[len(protein)-1]]) for protein in proteins])/2**N\n",
    "#maxcontactlist =[max([TotalNumContacts(path,protein) for path in L1[len(protein)-1]]) for protein in proteins]\n",
    "\n",
    "print(\"Answer for N =\",N, \"is\", average)\n",
    "#print(maxcontactlist)\n",
    "#for i in range(N**2):\n",
    "#    print(proteins[i],maxcontactlist[i])\n",
    "#for path in L1[N-1]:\n",
    "#    print()\n",
    "#    DisplayPath(path)"
   ]
  },
  {
   "cell_type": "code",
   "execution_count": null,
   "metadata": {
    "collapsed": true
   },
   "outputs": [],
   "source": []
  },
  {
   "cell_type": "code",
   "execution_count": null,
   "metadata": {
    "collapsed": true
   },
   "outputs": [],
   "source": []
  }
 ],
 "metadata": {
  "kernelspec": {
   "display_name": "Python 3",
   "language": "python",
   "name": "python3"
  },
  "language_info": {
   "codemirror_mode": {
    "name": "ipython",
    "version": 3
   },
   "file_extension": ".py",
   "mimetype": "text/x-python",
   "name": "python",
   "nbconvert_exporter": "python",
   "pygments_lexer": "ipython3",
   "version": "3.5.3"
  }
 },
 "nbformat": 4,
 "nbformat_minor": 2
}
