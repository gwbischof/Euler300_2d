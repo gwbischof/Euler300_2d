{
 "cells": [
  {
   "cell_type": "code",
   "execution_count": 181,
   "metadata": {},
   "outputs": [],
   "source": [
    "L1 = [[[{(0,0)},(1,0)]],[[{(0,0),(1,0)},(0,0),(1,0)]]]\n",
    "\n",
    "def NextTuple(path, num): \n",
    "    return [(path[-1][0]+1, path[-1][1]), (path[-1][0], path[-1][1]+1), (path[-1][0]-1, path[-1][1]), (path[-1][0], path[-1][1]-1)][num]\n",
    "\n",
    "def LastContacts(path):\n",
    "    return ((path[-1][0]+1, path[-1][1]) in path[0]) + ((path[-1][0], path[-1][1]+1) in path[0]) + ((path[-1][0]-1, path[-1][1]) in path[0]) + ((path[-1][0], path[-1][1]-1) in path[0])\n",
    "\n",
    "def GetPaths(L, N): \n",
    "    while len(L) <= N: \n",
    "        L.append([L[-1][j]+[NextTuple(L[-1][j], i)] for j in range(len(L[-1])) for i in range(4) if NextTuple(L[-1][j], i) not in L[-1][j][0]])\n",
    "        L[-1] = list(map(lambda x: [x[0] | {x[-1]}] + x[1:] , L[-1]))\n",
    "        C = [LastContacts(path) for path in L[-1]]\n",
    "        MaxC = max(C)\n",
    "        L[-1] = [L[-1][i] for i in range(len(C)) if C[i] == MaxC]\n",
    "        #C = zip(range(len(C)),C)\n",
    "        #for i, e in enumerate(C):\n",
    "        #    if i >len(C):\n",
    "        #        break\n",
    "        #    if e < max(C):\n",
    "        #        del L[-1][i]\n",
    "        #        del e\n",
    "        \n",
    "        #i = 0\n",
    "        #while i < len(C): \n",
    "        #    if C[i] < max(C):\n",
    "        #        del L[-1][i]\n",
    "        #        del C[i]\n",
    "        #    i+=1\n",
    "                "
   ]
  },
  {
   "cell_type": "code",
   "execution_count": null,
   "metadata": {},
   "outputs": [],
   "source": []
  },
  {
   "cell_type": "code",
   "execution_count": 182,
   "metadata": {},
   "outputs": [
    {
     "name": "stdout",
     "output_type": "stream",
     "text": [
      "0 1\n",
      "1 3\n",
      "2 5\n"
     ]
    },
    {
     "name": "stderr",
     "output_type": "stream",
     "text": [
      "Python 3.5.3 :: Anaconda custom (64-bit)\n"
     ]
    }
   ],
   "source": [
    "a = [1, 3, 5]\n",
    "#a = zip(range(len(a)),a)\n",
    "for i, e in enumerate(a):\n",
    "    print(i,e)\n",
    "!python --version"
   ]
  },
  {
   "cell_type": "code",
   "execution_count": 183,
   "metadata": {},
   "outputs": [
    {
     "name": "stdout",
     "output_type": "stream",
     "text": [
      "8\n",
      "Wall time: 5 ms\n"
     ]
    }
   ],
   "source": [
    "%%time\n",
    "GetPaths(L1,25)\n",
    "print(len(L1[15]))"
   ]
  },
  {
   "cell_type": "code",
   "execution_count": 34,
   "metadata": {},
   "outputs": [
    {
     "name": "stdout",
     "output_type": "stream",
     "text": [
      "{1, 2, 3, 4}\n",
      "{1, 2, 3}\n"
     ]
    }
   ],
   "source": [
    "a = {1,2,3}\n",
    "print(a | {4})\n",
    "print(a)"
   ]
  },
  {
   "cell_type": "code",
   "execution_count": 100,
   "metadata": {},
   "outputs": [
    {
     "name": "stdout",
     "output_type": "stream",
     "text": [
      "3\n"
     ]
    }
   ],
   "source": [
    "print(True + True + True)"
   ]
  },
  {
   "cell_type": "code",
   "execution_count": null,
   "metadata": {
    "collapsed": true
   },
   "outputs": [],
   "source": []
  }
 ],
 "metadata": {
  "kernelspec": {
   "display_name": "Python 3",
   "language": "python",
   "name": "python3"
  },
  "language_info": {
   "codemirror_mode": {
    "name": "ipython",
    "version": 3
   },
   "file_extension": ".py",
   "mimetype": "text/x-python",
   "name": "python",
   "nbconvert_exporter": "python",
   "pygments_lexer": "ipython3",
   "version": "3.5.3"
  }
 },
 "nbformat": 4,
 "nbformat_minor": 2
}
